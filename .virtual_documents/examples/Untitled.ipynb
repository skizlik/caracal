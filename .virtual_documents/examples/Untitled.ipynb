import numpy as np
import pandas as pd
from sklearn.datasets import load_iris
from sklearn.ensemble import RandomForestClassifier
from sklearn.model_selection import train_test_split

# Import your library's ModelWrapper
from caracal.core import ScikitLearnModelWrapper

# 1. Load the Iris dataset
iris = load_iris()
X = iris.data
y = iris.target

# 2. Split the data into training and testing sets
X_train, X_test, y_train, y_test = train_test_split(X, y, test_size=0.3, random_state=42)

# 3. Create a model and wrap it with Caracal's ModelWrapper
sklearn_model = RandomForestClassifier(n_estimators=100, random_state=42)
caracal_model = ScikitLearnModelWrapper(sklearn_model, model_id="Random Forest on Iris")

# 4. Train the model using Caracal's fit method
caracal_model.fit(X_train, y_train)

# 5. Make predictions and assess performance
caracal_model.predict(X_test)
assessment_results = caracal_model.assess(y_test)

# 6. Print the results
print("\nCaracal Model Performance on the Iris Dataset:")
for metric, value in assessment_results.items():
    print(f" - {metric}: {value:.4f}")



